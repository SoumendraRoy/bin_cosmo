{
 "cells": [
  {
   "cell_type": "code",
   "execution_count": 75,
   "id": "9dad90ae-d98b-4e7f-9fa9-20246c6ddc8b",
   "metadata": {
    "tags": []
   },
   "outputs": [],
   "source": [
    "import numpy as np\n",
    "import matplotlib.pylab as plt\n",
    "\n",
    "import pymc as pm\n",
    "import arviz as az\n",
    "import aesara.tensor as at\n",
    "\n",
    "import astropy.cosmology as cosmo\n",
    "import astropy.units as u\n",
    "import h5py\n",
    "import scipy.stats as st"
   ]
  },
  {
   "cell_type": "code",
   "execution_count": 76,
   "id": "f45315e6-4123-4922-8fa4-bf88dd75ef37",
   "metadata": {
    "tags": []
   },
   "outputs": [
    {
     "name": "stdout",
     "output_type": "stream",
     "text": [
      "(array([], dtype=int64),)\n"
     ]
    }
   ],
   "source": [
    "seed = 0\n",
    "np.random.seed(seed)\n",
    "\n",
    "#####################################################################################################\n",
    "\n",
    "data = np.loadtxt('/home/soumendrakishore.roy/Om_final/Results/z_DL_gpc_snr.dat', unpack=True)\n",
    "mask = data[0]>0.2\n",
    "z = data[0][mask]\n",
    "DL = data[1][mask]\n",
    "snr = data[2][mask]\n",
    "\n",
    "#####################################################################################################\n",
    "\n",
    "snr_cut = 0\n",
    "mask = snr>snr_cut\n",
    "\n",
    "z1 = z[mask]\n",
    "DL1 = DL[mask]\n",
    "snr1 = snr[mask]\n",
    "\n",
    "#####################################################################################################\n",
    "\n",
    "Nobs = 100\n",
    "\n",
    "rng = np.random.default_rng(seed=seed)\n",
    "ind = rng.choice(len(z1), size=Nobs, replace=False)\n",
    "\n",
    "zo = z1[ind]\n",
    "DLo = DL1[ind]\n",
    "snro = snr1[ind]\n",
    "\n",
    "sigma_DL = DLo/snro\n",
    "\n",
    "#####################################################################################################\n",
    "\n",
    "do = DLo # +sigma_DL*np.random.randn(Nobs) # in Gpc\n",
    "sdo = sigma_DL\n",
    "\n",
    "print(np.where(do<0)) # check do>0 always \n"
   ]
  },
  {
   "cell_type": "code",
   "execution_count": 77,
   "id": "c2a1b817-d1b0-4449-b6d3-e9164390a174",
   "metadata": {
    "tags": []
   },
   "outputs": [
    {
     "data": {
      "text/plain": [
       "<matplotlib.legend.Legend at 0x7fbf8f8adba0>"
      ]
     },
     "execution_count": 77,
     "metadata": {},
     "output_type": "execute_result"
    },
    {
     "data": {
      "image/png": "[encoded data removed]",
      "text/plain": [
       "<Figure size 640x480 with 1 Axes>"
      ]
     },
     "metadata": {},
     "output_type": "display_data"
    }
   ],
   "source": [
    "cp = cosmo.Planck18\n",
    "plt.errorbar(zo, do, yerr=sdo, fmt='.', label='data')\n",
    "plt.scatter(zo, cp.luminosity_distance(zo).to(u.Gpc).value, color='red', label='truth')\n",
    "plt.xlabel('zo')\n",
    "plt.ylabel('do (in Gpc)')\n",
    "plt.legend()"
   ]
  },
  {
   "cell_type": "code",
   "execution_count": 78,
   "id": "a4dcaed3-efdb-43a7-bcc3-d12ad3b2415e",
   "metadata": {
    "tags": []
   },
   "outputs": [
    {
     "name": "stdout",
     "output_type": "stream",
     "text": [
      "zb= [0.42502179 0.7653431  1.10566441 1.44598572 1.78630703]\n",
      "(100, 5) (100, 5)\n"
     ]
    }
   ],
   "source": [
    "Nbin = 5\n",
    "zl = np.linspace(min(zo), max(zo), Nbin+1)\n",
    "zb = np.zeros(Nbin)\n",
    "for i in range(Nbin):\n",
    "    zb[i] = (zl[i]+zl[i+1])/2\n",
    "print(\"zb=\", zb)\n",
    "\n",
    "ind = np.argsort(zo)\n",
    "zo2 = zo[ind]\n",
    "do2 = do[ind]\n",
    "sd2 = sdo[ind]\n",
    "\n",
    "do1 = np.zeros((Nobs,Nbin))\n",
    "sd1 = np.zeros((Nobs,Nbin))\n",
    "for i in range(Nobs):\n",
    "    do1[i].fill(do2[i])\n",
    "    sd1[i].fill(sd2[i])\n",
    "print(do1.shape, sd1.shape)"
   ]
  },
  {
   "cell_type": "code",
   "execution_count": 79,
   "id": "b5b29daa-dfaa-4df0-89f8-9533e954265c",
   "metadata": {
    "tags": []
   },
   "outputs": [
    {
     "name": "stdout",
     "output_type": "stream",
     "text": [
      "-43.46546602451099\n",
      "-43.465466024510995\n"
     ]
    }
   ],
   "source": [
    "from numpy import exp, log\n",
    "sou = np.array([[-23, -25, -50], [-21, -22, -23]])\n",
    "sou1 = np.amin(sou, axis=1)[:, None]\n",
    "print(np.sum(log(np.sum(exp(sou), axis=1))))\n",
    "print(np.sum(np.log(np.sum(np.exp(sou-sou1),axis=1)))+np.sum(sou1.flatten()))"
   ]
  },
  {
   "cell_type": "code",
   "execution_count": 82,
   "id": "39877370-1cd2-4599-a11c-2c92e8bf0b2f",
   "metadata": {
    "tags": []
   },
   "outputs": [
    {
     "name": "stdout",
     "output_type": "stream",
     "text": [
      "(array([], dtype=int64),)\n"
     ]
    }
   ],
   "source": [
    "with pm.Model() as model:\n",
    "    DL_test = cp.luminosity_distance(zb).to(u.Gpc).value\n",
    "    #mu = pm.Normal('mu', mu=DL_test, sigma=np.ones((Nbin)), shape=Nbin)\n",
    "    logl = pm.Uniform(\"logl\", -1.0, np.log(10.0))\n",
    "    logs2f = pm.Uniform(\"logs2f\", -10.0, 10.0)\n",
    "    l = at.exp(logl)\n",
    "    s2f = at.exp(logs2f)\n",
    "    f_cov = s2f*pm.gp.cov.ExpQuad(1, l)\n",
    "    gp = pm.gp.Latent(mean_func=pm.gp.mean.Constant(DL_test), cov_func=f_cov)\n",
    "    DLb = gp.prior(\"DLb\", zb[:, None])\n",
    "    \n",
    "    prob = at.exp(pm.logp(pm.Normal.dist(do1, sd1), DLb))\n",
    "    prob1 = at.sum(prob, axis=1)\n",
    "    print(np.where(prob1.eval()==0))"
   ]
  },
  {
   "cell_type": "code",
   "execution_count": 83,
   "id": "118e11f2-f253-4c82-8c51-32e0be484c2f",
   "metadata": {
    "tags": []
   },
   "outputs": [
    {
     "name": "stderr",
     "output_type": "stream",
     "text": [
      "Auto-assigning NUTS sampler...\n",
      "Initializing NUTS using jitter+adapt_diag...\n",
      "Multiprocess sampling (4 chains in 4 jobs)\n",
      "NUTS: [logl, logs2f, DLb_rotated_]\n"
     ]
    },
    {
     "data": {
      "text/html": [
       "\n",
       "<style>\n",
       "    /* Turns off some styling */\n",
       "    progress {\n",
       "        /* gets rid of default border in Firefox and Opera. */\n",
       "        border: none;\n",
       "        /* Needs to be in here for Safari polyfill so background images work as expected. */\n",
       "        background-size: auto;\n",
       "    }\n",
       "    progress:not([value]), progress:not([value])::-webkit-progress-bar {\n",
       "        background: repeating-linear-gradient(45deg, #7e7e7e, #7e7e7e 10px, #5c5c5c 10px, #5c5c5c 20px);\n",
       "    }\n",
       "    .progress-bar-interrupted, .progress-bar-interrupted::-webkit-progress-bar {\n",
       "        background: #F44336;\n",
       "    }\n",
       "</style>\n"
      ],
      "text/plain": [
       "<IPython.core.display.HTML object>"
      ]
     },
     "metadata": {},
     "output_type": "display_data"
    },
    {
     "data": {
      "text/html": [
       "\n",
       "    <div>\n",
       "      <progress value='8000' class='' max='8000' style='width:300px; height:20px; vertical-align: middle;'></progress>\n",
       "      100.00% [8000/8000 00:03&lt;00:00 Sampling 4 chains, 0 divergences]\n",
       "    </div>\n",
       "    "
      ],
      "text/plain": [
       "<IPython.core.display.HTML object>"
      ]
     },
     "metadata": {},
     "output_type": "display_data"
    },
    {
     "name": "stderr",
     "output_type": "stream",
     "text": [
      "Sampling 4 chains for 1_000 tune and 1_000 draw iterations (4_000 + 4_000 draws total) took 6 seconds.\n"
     ]
    }
   ],
   "source": [
    "with model:\n",
    "    trace = pm.sample()"
   ]
  },
  {
   "cell_type": "code",
   "execution_count": 84,
   "id": "021f9009-d68d-448c-ac0e-3e9620a350f6",
   "metadata": {
    "tags": []
   },
   "outputs": [],
   "source": [
    "DLb_fit = trace.posterior[\"DLb\"][0]\n",
    "DLb_med = np.median(DLb_fit, axis=0)\n",
    "DLb_sd = np.std(DLb_fit, axis=0)"
   ]
  },
  {
   "cell_type": "code",
   "execution_count": 86,
   "id": "3f5d624c-7186-4440-97df-091b80340df5",
   "metadata": {
    "tags": []
   },
   "outputs": [
    {
     "data": {
      "text/plain": [
       "Text(0, 0.5, 'Luminosity Distance (in Gpc)')"
      ]
     },
     "execution_count": 86,
     "metadata": {},
     "output_type": "execute_result"
    },
    {
     "data": {
      "image/png": "[encoded data removed]",
      "text/plain": [
       "<Figure size 640x480 with 1 Axes>"
      ]
     },
     "metadata": {},
     "output_type": "display_data"
    }
   ],
   "source": [
    "plt.errorbar(zb, DLb_med, yerr=DLb_sd, label=\"Fit\")\n",
    "plt.errorbar(zo, do, yerr=sigma_DL, fmt='.', label=\"Data\")\n",
    "plt.scatter(zo, cp.luminosity_distance(zo).to(u.Gpc).value, color='red', label=\"Truth\")\n",
    "plt.legend()\n",
    "plt.xlabel(\"Redshift\")\n",
    "plt.ylabel(\"Luminosity Distance (in Gpc)\")"
   ]
  },
  {
   "cell_type": "code",
   "execution_count": null,
   "id": "c9c2bdf9-9bb5-46ac-a2d9-317b1962bae1",
   "metadata": {},
   "outputs": [],
   "source": []
  }
 ],
 "metadata": {
  "kernelspec": {
   "display_name": "popcosmo",
   "language": "python",
   "name": "popcosmo"
  },
  "language_info": {
   "codemirror_mode": {
    "name": "ipython",
    "version": 3
   },
   "file_extension": ".py",
   "mimetype": "text/x-python",
   "name": "python",
   "nbconvert_exporter": "python",
   "pygments_lexer": "ipython3",
   "version": "3.10.6"
  }
 },
 "nbformat": 4,
 "nbformat_minor": 5
}
